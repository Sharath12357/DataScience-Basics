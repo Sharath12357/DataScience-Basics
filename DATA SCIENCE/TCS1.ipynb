{
 "cells": [
  {
   "cell_type": "markdown",
   "id": "49717833-b833-4d03-aab6-61cf460cafca",
   "metadata": {
    "jp-MarkdownHeadingCollapsed": true
   },
   "source": [
    "from collections import deque\n",
    "\n",
    "def normalize(vertices):\n",
    "    min_vertex = min(vertices)\n",
    "    min_index = vertices.index(min_vertex)\n",
    "    return deque(vertices[min_index:] + vertices[:min_index])\n",
    "\n",
    "def is_same_shape(shape1, shape2):\n",
    "    norm_shape1 = normalize(shape1)\n",
    "    norm_shape2 = normalize(shape2)\n",
    "    for _ in range(len(shape2)):\n",
    "        if list(norm_shape1) == list(norm_shape2):\n",
    "            return True\n",
    "        norm_shape2.rotate(1)\n",
    "    return False\n",
    "\n",
    "def find_pairs(n, earrings):\n",
    "    pairs = []\n",
    "    for i in range(n):\n",
    "        for j in range(i + 1, n):\n",
    "            if is_same_shape(earrings[i], earrings[j]):\n",
    "                pairs.append((i + 1, j + 1))\n",
    "    return pairs\n",
    "\n",
    "def main():\n",
    "    n = int(input())\n",
    "    earrings = []\n",
    "    for _ in range(n):\n",
    "        k = int(input())\n",
    "        vertices = [tuple(map(int, input().split())) for _ in range(k)]\n",
    "        earrings.append(vertices)\n",
    "    pairs = find_pairs(n, earrings)\n",
    "    if pairs:\n",
    "        print(\" \".join(f\"{a} {b}\" for a, b in pairs))\n",
    "    else:\n",
    "        print(\"No matching pairs found\")\n",
    "\n",
    "if __name__ == \"__main__\":\n",
    "    main()"
   ]
  },
  {
   "cell_type": "code",
   "execution_count": null,
   "id": "447bdf5e-4ef7-4be2-b5ba-341c3b9f88ea",
   "metadata": {},
   "outputs": [],
   "source": [
    "from collections import deque\n",
    "\n",
    "def normalize(vertices):\n",
    "    min_vertex = min(vertices)\n",
    "    min_index = vertices.index(min_vertex)\n",
    "    return deque(vertices[min_index:] + vertices[:min_index])\n",
    "\n",
    "def is_same_shape(shape1, shape2):\n",
    "    norm_shape1 = normalize(shape1)\n",
    "    norm_shape2 = normalize(shape2)\n",
    "    for _ in range(len(shape2)):\n",
    "        if list(norm_shape1) == list(norm_shape2):\n",
    "            return True\n",
    "        norm_shape2.rotate(1)\n",
    "    return False\n",
    "\n",
    "def find_pairs(n, earrings):\n",
    "    pairs = []\n",
    "    for i in range(n):\n",
    "        for j in range(i + 1, n):\n",
    "            if is_same_shape(earrings[i], earrings[j]):\n",
    "                pairs.append((i + 1, j + 1))\n",
    "    return pairs\n",
    "\n",
    "def main():\n",
    "    n = int(input())\n",
    "    earrings = []\n",
    "    for _ in range(n):\n",
    "        k = int(input())\n",
    "        vertices = [tuple(map(int, input().split())) for _ in range(k)]\n",
    "        earrings.append(vertices)\n",
    "    pairs = find_pairs(n, earrings)\n",
    "    if pairs:\n",
    "        print(\" \".join(f\"{a} {b}\" for a, b in pairs))\n",
    "    else:\n",
    "        print(\"No matching pairs found\")\n",
    "\n",
    "if __name__ == \"__main__\":\n",
    "    main()"
   ]
  },
  {
   "cell_type": "code",
   "execution_count": null,
   "id": "2070eaeb-f975-4963-8b66-d33741c4c415",
   "metadata": {},
   "outputs": [],
   "source": []
  }
 ],
 "metadata": {
  "kernelspec": {
   "display_name": "Python 3 (ipykernel)",
   "language": "python",
   "name": "python3"
  },
  "language_info": {
   "codemirror_mode": {
    "name": "ipython",
    "version": 3
   },
   "file_extension": ".py",
   "mimetype": "text/x-python",
   "name": "python",
   "nbconvert_exporter": "python",
   "pygments_lexer": "ipython3",
   "version": "3.12.0"
  }
 },
 "nbformat": 4,
 "nbformat_minor": 5
}
