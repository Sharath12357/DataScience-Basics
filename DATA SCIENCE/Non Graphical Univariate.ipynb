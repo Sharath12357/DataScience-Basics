{
 "cells": [
  {
   "cell_type": "code",
   "execution_count": 1,
   "id": "437e30a2-3fbb-4efb-ade6-79b11de9a5f3",
   "metadata": {},
   "outputs": [],
   "source": [
    "# Univariate analysis is an essential component of data exploration and analysis. While visualizations like histograms and box plots are commonly used for this purpose, non-graphical methods can provide valuable insights as well. In this article, we'll dive into univariate analysis without relying on graphs, focusing on techniques such as value counts and binning.\n",
    "\n",
    "# Understanding Univariate Analysis\n",
    "\n",
    "# Univariate analysis involves the examination of a single variable in isolation. It allows us to gain insights into the distribution, central tendency, and variability of that variable. Non-graphical univariate analysis techniques are particularly useful when dealing with categorical or discrete data, or when a simplified summary is needed.\n",
    "\n",
    "# Value Counts\n",
    "\n",
    "# Value counts are a straightforward and informative way to analyze the distribution of categorical data. This technique involves counting the occurrences of each unique category or value within a variable. Python's Pandas library provides a convenient method for this: value_counts().\n",
    "\n",
    "# Example:\n",
    "\n",
    "# Suppose you have a dataset containing information about customer satisfaction levels (categories: \"High,\" \"Medium,\" \"Low\"). You can perform a value count analysis as follows:"
   ]
  },
  {
   "cell_type": "code",
   "execution_count": 2,
   "id": "7b4028f9-9eef-4a25-9ff3-adfa90ae1064",
   "metadata": {},
   "outputs": [
    {
     "name": "stdout",
     "output_type": "stream",
     "text": [
      "Satisfaction\n",
      "Low       3\n",
      "Medium    3\n",
      "High      2\n",
      "Name: count, dtype: int64\n"
     ]
    }
   ],
   "source": [
    "import pandas as pd\n",
    "\n",
    "\n",
    "data = {'Satisfaction': ['High', 'Low', 'Medium', 'High', 'Low', 'Medium', 'Medium', 'Low']}\n",
    "df = pd.DataFrame(data)\n",
    "\n",
    "\n",
    "value_counts = df['Satisfaction'].value_counts()\n",
    "\n",
    "\n",
    "print(value_counts)"
   ]
  },
  {
   "cell_type": "code",
   "execution_count": null,
   "id": "59b6213f-8d6f-4b1a-8cb6-027a91c25efc",
   "metadata": {},
   "outputs": [],
   "source": []
  }
 ],
 "metadata": {
  "kernelspec": {
   "display_name": "Python 3 (ipykernel)",
   "language": "python",
   "name": "python3"
  },
  "language_info": {
   "codemirror_mode": {
    "name": "ipython",
    "version": 3
   },
   "file_extension": ".py",
   "mimetype": "text/x-python",
   "name": "python",
   "nbconvert_exporter": "python",
   "pygments_lexer": "ipython3",
   "version": "3.12.0"
  }
 },
 "nbformat": 4,
 "nbformat_minor": 5
}
