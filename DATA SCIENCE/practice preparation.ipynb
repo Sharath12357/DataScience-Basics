{
 "cells": [
  {
   "cell_type": "code",
   "execution_count": 13,
   "id": "03bc95f3-bd98-463a-8598-ea1eca4407eb",
   "metadata": {},
   "outputs": [
    {
     "name": "stdout",
     "output_type": "stream",
     "text": [
      "(0, 'apple')\n",
      "(1, 'banana')\n",
      "(2, 'orange')\n"
     ]
    }
   ],
   "source": [
    "l1=['apple','banana','orange']\n",
    "for ele in enumerate(l1):\n",
    "    print(ele)"
   ]
  },
  {
   "cell_type": "code",
   "execution_count": null,
   "id": "2dd63e23-6df2-4e58-bd04-1e7ff9cc2bf8",
   "metadata": {},
   "outputs": [],
   "source": []
  }
 ],
 "metadata": {
  "kernelspec": {
   "display_name": "Python 3 (ipykernel)",
   "language": "python",
   "name": "python3"
  },
  "language_info": {
   "codemirror_mode": {
    "name": "ipython",
    "version": 3
   },
   "file_extension": ".py",
   "mimetype": "text/x-python",
   "name": "python",
   "nbconvert_exporter": "python",
   "pygments_lexer": "ipython3",
   "version": "3.12.0"
  }
 },
 "nbformat": 4,
 "nbformat_minor": 5
}
