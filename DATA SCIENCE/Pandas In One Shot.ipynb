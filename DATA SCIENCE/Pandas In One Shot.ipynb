{
 "cells": [
  {
   "cell_type": "code",
   "execution_count": 1,
   "id": "c37a9f72-b6f4-4009-98b8-8238cd5b141d",
   "metadata": {},
   "outputs": [
    {
     "name": "stdout",
     "output_type": "stream",
     "text": [
      "Requirement already satisfied: pandas in c:\\users\\sharath r\\appdata\\local\\programs\\python\\python39\\lib\\site-packages (2.2.3)\n",
      "Requirement already satisfied: python-dateutil>=2.8.2 in c:\\users\\sharath r\\appdata\\local\\programs\\python\\python39\\lib\\site-packages (from pandas) (2.9.0.post0)\n",
      "Requirement already satisfied: tzdata>=2022.7 in c:\\users\\sharath r\\appdata\\local\\programs\\python\\python39\\lib\\site-packages (from pandas) (2024.2)\n",
      "Requirement already satisfied: pytz>=2020.1 in c:\\users\\sharath r\\appdata\\local\\programs\\python\\python39\\lib\\site-packages (from pandas) (2024.2)\n",
      "Requirement already satisfied: numpy>=1.22.4 in c:\\users\\sharath r\\appdata\\local\\programs\\python\\python39\\lib\\site-packages (from pandas) (1.26.4)\n",
      "Requirement already satisfied: six>=1.5 in c:\\users\\sharath r\\appdata\\local\\programs\\python\\python39\\lib\\site-packages (from python-dateutil>=2.8.2->pandas) (1.16.0)\n"
     ]
    },
    {
     "name": "stderr",
     "output_type": "stream",
     "text": [
      "WARNING: You are using pip version 21.1.1; however, version 24.3.1 is available.\n",
      "You should consider upgrading via the 'c:\\users\\sharath r\\appdata\\local\\programs\\python\\python39\\python.exe -m pip install --upgrade pip' command.\n"
     ]
    }
   ],
   "source": [
    "!pip install pandas"
   ]
  },
  {
   "cell_type": "code",
   "execution_count": 2,
   "id": "12fce6c4-a569-4490-a040-02eee3f90084",
   "metadata": {},
   "outputs": [],
   "source": [
    "#1 working with pandas\n",
    "#a) Creating series:-Collection of data in one dimensions "
   ]
  },
  {
   "cell_type": "code",
   "execution_count": 12,
   "id": "d64318df-ace9-4df6-ae23-8036ec8a030b",
   "metadata": {},
   "outputs": [],
   "source": [
    "import pandas as pd\n",
    "import numpy as np"
   ]
  },
  {
   "cell_type": "code",
   "execution_count": 7,
   "id": "ef027305-1721-425e-bb1b-f6e66ab4e6df",
   "metadata": {},
   "outputs": [
    {
     "data": {
      "text/plain": [
       "'2.1.2'"
      ]
     },
     "execution_count": 7,
     "metadata": {},
     "output_type": "execute_result"
    }
   ],
   "source": [
    "pd.__version__"
   ]
  },
  {
   "cell_type": "code",
   "execution_count": 8,
   "id": "c68028be-06b0-4753-b777-a9d7de876add",
   "metadata": {},
   "outputs": [],
   "source": [
    "#series through list"
   ]
  },
  {
   "cell_type": "code",
   "execution_count": 9,
   "id": "9b21ecc5-c326-42ca-be6e-947b44a763ed",
   "metadata": {},
   "outputs": [
    {
     "data": {
      "text/plain": [
       "[1, 2, 3, 4, 5]"
      ]
     },
     "execution_count": 9,
     "metadata": {},
     "output_type": "execute_result"
    }
   ],
   "source": [
    "list=[1,2,3,4,5]\n",
    "list"
   ]
  },
  {
   "cell_type": "code",
   "execution_count": 11,
   "id": "36f13c15-f971-415c-bd8e-7f2ed4e3e6f5",
   "metadata": {},
   "outputs": [
    {
     "data": {
      "text/plain": [
       "0    1\n",
       "1    2\n",
       "2    3\n",
       "3    4\n",
       "4    5\n",
       "dtype: int64"
      ]
     },
     "execution_count": 11,
     "metadata": {},
     "output_type": "execute_result"
    }
   ],
   "source": [
    "pd.Series(list)"
   ]
  },
  {
   "cell_type": "code",
   "execution_count": 13,
   "id": "cbd44593-0e57-4c83-85fd-ee91a4573843",
   "metadata": {},
   "outputs": [],
   "source": [
    "#series through numpy array"
   ]
  },
  {
   "cell_type": "code",
   "execution_count": 15,
   "id": "ad875184-9575-4b16-859f-8617116cde01",
   "metadata": {},
   "outputs": [
    {
     "data": {
      "text/plain": [
       "0    1\n",
       "1    2\n",
       "2    3\n",
       "3    4\n",
       "4    5\n",
       "dtype: int32"
      ]
     },
     "execution_count": 15,
     "metadata": {},
     "output_type": "execute_result"
    }
   ],
   "source": [
    "arr=np.array([1,2,3,4,5])\n",
    "pd.Series(arr)"
   ]
  },
  {
   "cell_type": "code",
   "execution_count": 19,
   "id": "24c657a9-fcf8-4b7c-9171-c5680f1507a4",
   "metadata": {},
   "outputs": [
    {
     "data": {
      "text/plain": [
       "1    sharath\n",
       "2     chatra\n",
       "3      pooja\n",
       "dtype: object"
      ]
     },
     "execution_count": 19,
     "metadata": {},
     "output_type": "execute_result"
    }
   ],
   "source": [
    "pd.Series(data=[\"sharath\",\"chatra\",\"pooja\"],index=[1,2,3])"
   ]
  },
  {
   "cell_type": "code",
   "execution_count": 21,
   "id": "a4b57ae9-e083-4a24-8def-da9d2b230fc0",
   "metadata": {},
   "outputs": [
    {
     "data": {
      "text/plain": [
       "sharath    1\n",
       "chaitra    2\n",
       "pooja      3\n",
       "dtype: int64"
      ]
     },
     "execution_count": 21,
     "metadata": {},
     "output_type": "execute_result"
    }
   ],
   "source": [
    "pd.Series(index=[\"sharath\",\"chaitra\",\"pooja\"],data=[1,2,3])"
   ]
  },
  {
   "cell_type": "code",
   "execution_count": 22,
   "id": "4f8bebb5-d5ca-4cbe-8c62-0fea681432fc",
   "metadata": {},
   "outputs": [],
   "source": [
    "#series through dictionary"
   ]
  },
  {
   "cell_type": "code",
   "execution_count": 24,
   "id": "f1f95679-9547-4c12-b501-95ba5e74b408",
   "metadata": {},
   "outputs": [
    {
     "data": {
      "text/plain": [
       "day_1     4000\n",
       "day_2     3000\n",
       "day_3    12000\n",
       "dtype: int64"
      ]
     },
     "execution_count": 24,
     "metadata": {},
     "output_type": "execute_result"
    }
   ],
   "source": [
    "steps={'day_1':4000,'day_2':3000,'day_3':12000}\n",
    "pd.Series(steps)"
   ]
  },
  {
   "cell_type": "code",
   "execution_count": 25,
   "id": "97506e01-95b8-4b94-bcb7-ac029f98d010",
   "metadata": {},
   "outputs": [],
   "source": [
    "#Along with repeate function"
   ]
  },
  {
   "cell_type": "code",
   "execution_count": 27,
   "id": "103361b3-91bb-4955-b331-4e1841984294",
   "metadata": {},
   "outputs": [
    {
     "data": {
      "text/plain": [
       "0    5\n",
       "0    5\n",
       "0    5\n",
       "0    5\n",
       "0    5\n",
       "dtype: int64"
      ]
     },
     "execution_count": 27,
     "metadata": {},
     "output_type": "execute_result"
    }
   ],
   "source": [
    "pd.Series(5).repeat(5)"
   ]
  },
  {
   "cell_type": "code",
   "execution_count": 33,
   "id": "a84e8929-9248-4c24-b69b-716e13c0b468",
   "metadata": {},
   "outputs": [
    {
     "data": {
      "text/plain": [
       "0    5\n",
       "1    5\n",
       "2    5\n",
       "dtype: int64"
      ]
     },
     "execution_count": 33,
     "metadata": {},
     "output_type": "execute_result"
    }
   ],
   "source": [
    "pd.Series(5).repeat(3).reset_index(drop=True)"
   ]
  },
  {
   "cell_type": "code",
   "execution_count": 35,
   "id": "282932b1-bf0c-42e7-9e1e-6bda04ac56f1",
   "metadata": {},
   "outputs": [],
   "source": [
    "s=pd.Series([10,200]).repeat([5,2]).reset_index(drop=True)"
   ]
  },
  {
   "cell_type": "code",
   "execution_count": 37,
   "id": "1bfac416-1942-4511-ab65-33cb1fda5b0d",
   "metadata": {},
   "outputs": [],
   "source": [
    "#Access The element"
   ]
  },
  {
   "cell_type": "code",
   "execution_count": 42,
   "id": "e86a4354-9391-4bea-bc0d-7083ccd804ce",
   "metadata": {},
   "outputs": [
    {
     "data": {
      "text/plain": [
       "10"
      ]
     },
     "execution_count": 42,
     "metadata": {},
     "output_type": "execute_result"
    }
   ],
   "source": [
    "s[0]"
   ]
  },
  {
   "cell_type": "code",
   "execution_count": 43,
   "id": "3380fa3c-1f4e-46ce-b1de-f2eede998152",
   "metadata": {},
   "outputs": [
    {
     "data": {
      "text/plain": [
       "0     10\n",
       "1     10\n",
       "2     10\n",
       "3     10\n",
       "4     10\n",
       "5    200\n",
       "6    200\n",
       "dtype: int64"
      ]
     },
     "execution_count": 43,
     "metadata": {},
     "output_type": "execute_result"
    }
   ],
   "source": [
    "s[::]"
   ]
  },
  {
   "cell_type": "code",
   "execution_count": 44,
   "id": "ef3a79b0-5a87-4f26-91ba-4cf5ebfc9b0a",
   "metadata": {},
   "outputs": [
    {
     "data": {
      "text/plain": [
       "2    10\n",
       "3    10\n",
       "dtype: int64"
      ]
     },
     "execution_count": 44,
     "metadata": {},
     "output_type": "execute_result"
    }
   ],
   "source": [
    "s[2:4]"
   ]
  },
  {
   "cell_type": "code",
   "execution_count": 45,
   "id": "ad6decda-a21f-4a10-a3a8-3cfaf53df746",
   "metadata": {},
   "outputs": [
    {
     "data": {
      "text/plain": [
       "1     10\n",
       "2     10\n",
       "3     10\n",
       "4     10\n",
       "5    200\n",
       "dtype: int64"
      ]
     },
     "execution_count": 45,
     "metadata": {},
     "output_type": "execute_result"
    }
   ],
   "source": [
    "s[1:-1]"
   ]
  },
  {
   "cell_type": "code",
   "execution_count": null,
   "id": "55c05613-4f42-41cb-aede-f0f533dce8bd",
   "metadata": {},
   "outputs": [],
   "source": []
  },
  {
   "cell_type": "markdown",
   "id": "436791c2-d4dd-4a46-8bd8-543ee231bbb5",
   "metadata": {},
   "source": [
    "# b) Aggrigate Function"
   ]
  },
  {
   "cell_type": "code",
   "execution_count": 46,
   "id": "3ed43ae3-cb97-4e12-acc1-20c953ec7883",
   "metadata": {},
   "outputs": [
    {
     "data": {
      "text/plain": [
       "0    1\n",
       "1    2\n",
       "2    3\n",
       "3    4\n",
       "4    5\n",
       "5    6\n",
       "6    7\n",
       "dtype: int64"
      ]
     },
     "execution_count": 46,
     "metadata": {},
     "output_type": "execute_result"
    }
   ],
   "source": [
    "s=pd.Series([1,2,3,4,5,6,7])\n",
    "s"
   ]
  },
  {
   "cell_type": "code",
   "execution_count": 47,
   "id": "5fafdc47-a1d6-49d7-a659-0470b9841095",
   "metadata": {},
   "outputs": [
    {
     "name": "stderr",
     "output_type": "stream",
     "text": [
      "C:\\Users\\sharath R\\AppData\\Local\\Temp\\ipykernel_40368\\1839022704.py:1: FutureWarning: The provided callable <built-in function min> is currently using Series.min. In a future version of pandas, the provided callable will be used directly. To keep current behavior pass the string \"min\" instead.\n",
      "  s.agg([min,max,sum])\n",
      "C:\\Users\\sharath R\\AppData\\Local\\Temp\\ipykernel_40368\\1839022704.py:1: FutureWarning: The provided callable <built-in function max> is currently using Series.max. In a future version of pandas, the provided callable will be used directly. To keep current behavior pass the string \"max\" instead.\n",
      "  s.agg([min,max,sum])\n",
      "C:\\Users\\sharath R\\AppData\\Local\\Temp\\ipykernel_40368\\1839022704.py:1: FutureWarning: The provided callable <built-in function sum> is currently using Series.sum. In a future version of pandas, the provided callable will be used directly. To keep current behavior pass the string \"sum\" instead.\n",
      "  s.agg([min,max,sum])\n"
     ]
    },
    {
     "data": {
      "text/plain": [
       "min     1\n",
       "max     7\n",
       "sum    28\n",
       "dtype: int64"
      ]
     },
     "execution_count": 47,
     "metadata": {},
     "output_type": "execute_result"
    }
   ],
   "source": [
    "s.agg([min,max,sum])"
   ]
  },
  {
   "cell_type": "code",
   "execution_count": 48,
   "id": "f7a9b6c1-8bb2-47ee-9623-fd35475b4e55",
   "metadata": {},
   "outputs": [
    {
     "data": {
      "text/plain": [
       "0    1\n",
       "1    2\n",
       "2    3\n",
       "3    4\n",
       "4    5\n",
       "5    6\n",
       "6    7\n",
       "dtype: int64"
      ]
     },
     "execution_count": 48,
     "metadata": {},
     "output_type": "execute_result"
    }
   ],
   "source": [
    "s.abs()"
   ]
  },
  {
   "cell_type": "code",
   "execution_count": 49,
   "id": "90128796-e033-4d90-a071-d9ced0740490",
   "metadata": {},
   "outputs": [
    {
     "data": {
      "text/plain": [
       "0    1\n",
       "1   -2\n",
       "2    3\n",
       "3   -4\n",
       "4   -5\n",
       "dtype: int64"
      ]
     },
     "execution_count": 49,
     "metadata": {},
     "output_type": "execute_result"
    }
   ],
   "source": [
    "sr=pd.Series([1,-2,3,-4,-5])\n",
    "sr"
   ]
  },
  {
   "cell_type": "code",
   "execution_count": 50,
   "id": "7fe4d610-85c0-495a-aca7-b915d86b487c",
   "metadata": {},
   "outputs": [
    {
     "data": {
      "text/plain": [
       "0    1\n",
       "1    2\n",
       "2    3\n",
       "3    4\n",
       "4    5\n",
       "dtype: int64"
      ]
     },
     "execution_count": 50,
     "metadata": {},
     "output_type": "execute_result"
    }
   ],
   "source": [
    "sr.abs()"
   ]
  },
  {
   "cell_type": "code",
   "execution_count": null,
   "id": "beddf109-5750-4863-9608-388f67256885",
   "metadata": {},
   "outputs": [],
   "source": []
  }
 ],
 "metadata": {
  "kernelspec": {
   "display_name": "Python 3 (ipykernel)",
   "language": "python",
   "name": "python3"
  },
  "language_info": {
   "codemirror_mode": {
    "name": "ipython",
    "version": 3
   },
   "file_extension": ".py",
   "mimetype": "text/x-python",
   "name": "python",
   "nbconvert_exporter": "python",
   "pygments_lexer": "ipython3",
   "version": "3.12.0"
  }
 },
 "nbformat": 4,
 "nbformat_minor": 5
}
