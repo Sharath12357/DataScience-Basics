{
 "cells": [
  {
   "cell_type": "code",
   "execution_count": 4,
   "id": "ebd2e73f-7155-4616-a482-79c8de527da0",
   "metadata": {},
   "outputs": [
    {
     "name": "stdout",
     "output_type": "stream",
     "text": [
      "[('sharath', 26), ('Chaitra', 20), ('Pooja', 15)]\n"
     ]
    }
   ],
   "source": [
    "list1=[\"sharath\",\"Chaitra\",\"Pooja\"]\n",
    "tuple1=(26,20,15)\n",
    "zipped_data=zip(list1,tuple1)\n",
    "print(list(zipped_data))"
   ]
  },
  {
   "cell_type": "code",
   "execution_count": 3,
   "id": "8509ec29-830a-4ae1-a924-c06937dd24d0",
   "metadata": {},
   "outputs": [
    {
     "name": "stdout",
     "output_type": "stream",
     "text": [
      "[(1, 'Geeks'), (4, 'for'), (8, 'Geeks')]\n"
     ]
    }
   ],
   "source": [
    "tuple1 = (1, 4, 8)\n",
    "List1 = [\"Geeks\" , \"for\", \"Geeks\", \"Python\"]\n",
    "zipped_data = zip(tuple1, List1)\n",
    "print(list(zipped_data))"
   ]
  },
  {
   "cell_type": "code",
   "execution_count": 13,
   "id": "b67c367f-5446-4fd9-a193-75d099508ae3",
   "metadata": {},
   "outputs": [
    {
     "name": "stdout",
     "output_type": "stream",
     "text": [
      "102\n"
     ]
    }
   ],
   "source": [
    "list1=[2,4,8]\n",
    "list2=[3,6,9]\n",
    "print(sum([i*j for i,j in zip(list1,list2)]))"
   ]
  },
  {
   "cell_type": "code",
   "execution_count": 14,
   "id": "3d137df0-52f2-4dfb-9bd3-44cb38fb57d8",
   "metadata": {},
   "outputs": [],
   "source": [
    "#Filter Function"
   ]
  },
  {
   "cell_type": "code",
   "execution_count": 20,
   "id": "b43a4f8a-5809-41c1-8c8e-8163a0e372da",
   "metadata": {},
   "outputs": [
    {
     "name": "stdout",
     "output_type": "stream",
     "text": [
      "(2, 4, 6, 8)\n"
     ]
    }
   ],
   "source": [
    "lst=[1,2,3,4,5,6,7,8,9]\n",
    "def iseven(n):\n",
    "    return n%2==0\n",
    "print(tuple(filter(iseven,lst)))"
   ]
  },
  {
   "cell_type": "code",
   "execution_count": 21,
   "id": "bf59635a-9314-4ba1-b98b-c6427dd9de17",
   "metadata": {},
   "outputs": [],
   "source": [
    "#Lamda Function"
   ]
  },
  {
   "cell_type": "code",
   "execution_count": 22,
   "id": "60bf333c-f1d8-4e58-9914-f6e6ff2cffb1",
   "metadata": {},
   "outputs": [
    {
     "name": "stdout",
     "output_type": "stream",
     "text": [
      "50\n"
     ]
    }
   ],
   "source": [
    "add_number=lambda x,y: x*y\n",
    "print(add_number(5,10))"
   ]
  },
  {
   "cell_type": "code",
   "execution_count": 1,
   "id": "97f056be-5d30-40ba-b429-2f28cee75193",
   "metadata": {},
   "outputs": [
    {
     "name": "stdout",
     "output_type": "stream",
     "text": [
      "[100, 400, 900, 1600, 2500]\n"
     ]
    }
   ],
   "source": [
    "num=[10,20,30,40,50]\n",
    "def sqr(x):\n",
    "    return x**2\n",
    "print(list(map(sqr,num)))"
   ]
  },
  {
   "cell_type": "code",
   "execution_count": null,
   "id": "257a00ee-e60f-4151-9655-a9351163cd60",
   "metadata": {},
   "outputs": [],
   "source": []
  }
 ],
 "metadata": {
  "kernelspec": {
   "display_name": "Python 3 (ipykernel)",
   "language": "python",
   "name": "python3"
  },
  "language_info": {
   "codemirror_mode": {
    "name": "ipython",
    "version": 3
   },
   "file_extension": ".py",
   "mimetype": "text/x-python",
   "name": "python",
   "nbconvert_exporter": "python",
   "pygments_lexer": "ipython3",
   "version": "3.12.0"
  }
 },
 "nbformat": 4,
 "nbformat_minor": 5
}
